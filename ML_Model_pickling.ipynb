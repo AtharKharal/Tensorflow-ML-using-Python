{
  "nbformat": 4,
  "nbformat_minor": 0,
  "metadata": {
    "colab": {
      "name": "ML_Model_pickling.ipynb",
      "version": "0.3.2",
      "provenance": [],
      "collapsed_sections": [],
      "include_colab_link": true
    },
    "kernelspec": {
      "name": "python3",
      "display_name": "Python 3"
    }
  },
  "cells": [
    {
      "cell_type": "markdown",
      "metadata": {
        "id": "view-in-github",
        "colab_type": "text"
      },
      "source": [
        "<a href=\"https://colab.research.google.com/github/AtharKharal/Tensorflow_Python_GPUsTPUs/blob/master/ML_Model_pickling.ipynb\" target=\"_parent\"><img src=\"https://colab.research.google.com/assets/colab-badge.svg\" alt=\"Open In Colab\"/></a>"
      ]
    },
    {
      "metadata": {
        "id": "DfBRqsTEZ6HH",
        "colab_type": "code",
        "colab": {}
      },
      "cell_type": "code",
      "source": [
        "# -*- coding: utf-8 -*-\n",
        "\"\"\"\n",
        "This script aims to train, pickle and then predict an svm on iris dataset\n",
        "\"\"\"\n",
        "from sklearn import datasets, svm\n",
        "from joblib import dump, load\n",
        "\n",
        "iris = datasets.load_iris()\n",
        "X, y = iris.data, iris.target\n",
        "\n",
        "lrnr= svm.SVC(gamma=.001)\n",
        "\n",
        "lrnr.fit(X,y)\n",
        "\n",
        "lrnr_dumped=dump(lrnr, \"my_dumped_lrnr.joblib\")\n",
        "\n",
        "lrnr_retrieved= load(\"my_dumped_lrnr.joblib\")\n",
        "\n",
        "prd = lrnr_retrieved.predict(iris.data)\n",
        "\n",
        "print(prd)"
      ],
      "execution_count": 0,
      "outputs": []
    }
  ]
}