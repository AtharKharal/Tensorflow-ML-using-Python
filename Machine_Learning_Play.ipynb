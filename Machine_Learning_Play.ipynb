{
  "nbformat": 4,
  "nbformat_minor": 0,
  "metadata": {
    "colab": {
      "name": "Machine Learning Play.ipynb",
      "version": "0.3.2",
      "provenance": [],
      "collapsed_sections": [],
      "include_colab_link": true
    },
    "kernelspec": {
      "name": "python2",
      "display_name": "Python 2"
    },
    "accelerator": "GPU"
  },
  "cells": [
    {
      "cell_type": "markdown",
      "metadata": {
        "id": "view-in-github",
        "colab_type": "text"
      },
      "source": [
        "<a href=\"https://colab.research.google.com/github/AtharKharal/Tensorflow-ML-using-Python/blob/master/Machine_Learning_Play.ipynb\" target=\"_parent\"><img src=\"https://colab.research.google.com/assets/colab-badge.svg\" alt=\"Open In Colab\"/></a>"
      ]
    },
    {
      "metadata": {
        "id": "CKPpg3Oi111R",
        "colab_type": "text"
      },
      "cell_type": "markdown",
      "source": [
        "#Setting The Hardware in Cloud"
      ]
    },
    {
      "metadata": {
        "id": "UZ5ZSWZu1AdI",
        "colab_type": "text"
      },
      "cell_type": "markdown",
      "source": [
        "##Connecting with Google Drive"
      ]
    },
    {
      "metadata": {
        "id": "l6gI6UOqt1nG",
        "colab_type": "code",
        "outputId": "09e961ff-8218-4b97-b22a-0f6024f155bc",
        "colab": {
          "base_uri": "https://localhost:8080/",
          "height": 34
        }
      },
      "cell_type": "code",
      "source": [
        "from google.colab import drive\n",
        "drive.mount('/content/drive')"
      ],
      "execution_count": 1,
      "outputs": [
        {
          "output_type": "stream",
          "text": [
            "Drive already mounted at /content/drive; to attempt to forcibly remount, call drive.mount(\"/content/drive\", force_remount=True).\n"
          ],
          "name": "stdout"
        }
      ]
    },
    {
      "metadata": {
        "id": "kr3hULC3vqOs",
        "colab_type": "code",
        "outputId": "bdeaa144-bb9b-47ad-bada-7d49f719dd0d",
        "colab": {
          "base_uri": "https://localhost:8080/",
          "height": 34
        }
      },
      "cell_type": "code",
      "source": [
        "!ls \"/content/drive/My Drive/Colab Notebooks\""
      ],
      "execution_count": 2,
      "outputs": [
        {
          "output_type": "stream",
          "text": [
            "'Machine Learning Play.ipynb'   my1.ipynb   my_tf_playfield.ipynb   Titanic.csv\n"
          ],
          "name": "stdout"
        }
      ]
    },
    {
      "metadata": {
        "id": "uvY15JfM0t9C",
        "colab_type": "text"
      },
      "cell_type": "markdown",
      "source": [
        "##Using a GPU"
      ]
    },
    {
      "metadata": {
        "id": "TnPVufSPvnqk",
        "colab_type": "code",
        "outputId": "067d3002-e63a-46e0-8a09-f80ebd92bebf",
        "colab": {
          "base_uri": "https://localhost:8080/",
          "height": 34
        }
      },
      "cell_type": "code",
      "source": [
        "import tensorflow as tf\n",
        "tf.test.gpu_device_name()"
      ],
      "execution_count": 3,
      "outputs": [
        {
          "output_type": "execute_result",
          "data": {
            "text/plain": [
              "'/device:GPU:0'"
            ]
          },
          "metadata": {
            "tags": []
          },
          "execution_count": 3
        }
      ]
    },
    {
      "metadata": {
        "id": "-NEeoGNtDqaI",
        "colab_type": "code",
        "outputId": "d6491796-4b94-4537-addf-3b8d64f4ef36",
        "colab": {
          "base_uri": "https://localhost:8080/",
          "height": 476
        }
      },
      "cell_type": "code",
      "source": [
        "from tensorflow.python.client import device_lib\n",
        "device_lib.list_local_devices()"
      ],
      "execution_count": 4,
      "outputs": [
        {
          "output_type": "execute_result",
          "data": {
            "text/plain": [
              "[name: \"/device:CPU:0\"\n",
              " device_type: \"CPU\"\n",
              " memory_limit: 268435456\n",
              " locality {\n",
              " }\n",
              " incarnation: 1255524000927438102, name: \"/device:XLA_CPU:0\"\n",
              " device_type: \"XLA_CPU\"\n",
              " memory_limit: 17179869184\n",
              " locality {\n",
              " }\n",
              " incarnation: 18289444976018037129\n",
              " physical_device_desc: \"device: XLA_CPU device\", name: \"/device:XLA_GPU:0\"\n",
              " device_type: \"XLA_GPU\"\n",
              " memory_limit: 17179869184\n",
              " locality {\n",
              " }\n",
              " incarnation: 10096276834667002963\n",
              " physical_device_desc: \"device: XLA_GPU device\", name: \"/device:GPU:0\"\n",
              " device_type: \"GPU\"\n",
              " memory_limit: 11281553818\n",
              " locality {\n",
              "   bus_id: 1\n",
              "   links {\n",
              "   }\n",
              " }\n",
              " incarnation: 12038290733515834222\n",
              " physical_device_desc: \"device: 0, name: Tesla K80, pci bus id: 0000:00:04.0, compute capability: 3.7\"]"
            ]
          },
          "metadata": {
            "tags": []
          },
          "execution_count": 4
        }
      ]
    },
    {
      "metadata": {
        "id": "xYn_nfm11RFp",
        "colab_type": "text"
      },
      "cell_type": "markdown",
      "source": [
        "#Reading and Wrangling Data"
      ]
    },
    {
      "metadata": {
        "id": "GfAJFrIou99M",
        "colab_type": "code",
        "colab": {}
      },
      "cell_type": "code",
      "source": [
        "import pandas as pd\n",
        "titanic=pd.read_csv('/content/drive/My Drive/Colab Notebooks/Titanic.csv')"
      ],
      "execution_count": 0,
      "outputs": []
    },
    {
      "metadata": {
        "id": "rgCwBiD_xGf7",
        "colab_type": "code",
        "outputId": "c14ec837-cb8f-4af8-bcf2-e8606627df3b",
        "colab": {
          "base_uri": "https://localhost:8080/",
          "height": 390
        }
      },
      "cell_type": "code",
      "source": [
        "titanic.head(11)"
      ],
      "execution_count": 6,
      "outputs": [
        {
          "output_type": "execute_result",
          "data": {
            "text/html": [
              "<div>\n",
              "<style scoped>\n",
              "    .dataframe tbody tr th:only-of-type {\n",
              "        vertical-align: middle;\n",
              "    }\n",
              "\n",
              "    .dataframe tbody tr th {\n",
              "        vertical-align: top;\n",
              "    }\n",
              "\n",
              "    .dataframe thead th {\n",
              "        text-align: right;\n",
              "    }\n",
              "</style>\n",
              "<table border=\"1\" class=\"dataframe\">\n",
              "  <thead>\n",
              "    <tr style=\"text-align: right;\">\n",
              "      <th></th>\n",
              "      <th>Unnamed: 0</th>\n",
              "      <th>Class</th>\n",
              "      <th>Sex</th>\n",
              "      <th>Age</th>\n",
              "      <th>Survived</th>\n",
              "      <th>Freq</th>\n",
              "    </tr>\n",
              "  </thead>\n",
              "  <tbody>\n",
              "    <tr>\n",
              "      <th>0</th>\n",
              "      <td>1</td>\n",
              "      <td>1st</td>\n",
              "      <td>Male</td>\n",
              "      <td>Child</td>\n",
              "      <td>No</td>\n",
              "      <td>0</td>\n",
              "    </tr>\n",
              "    <tr>\n",
              "      <th>1</th>\n",
              "      <td>2</td>\n",
              "      <td>2nd</td>\n",
              "      <td>Male</td>\n",
              "      <td>Child</td>\n",
              "      <td>No</td>\n",
              "      <td>0</td>\n",
              "    </tr>\n",
              "    <tr>\n",
              "      <th>2</th>\n",
              "      <td>3</td>\n",
              "      <td>3rd</td>\n",
              "      <td>Male</td>\n",
              "      <td>Child</td>\n",
              "      <td>No</td>\n",
              "      <td>35</td>\n",
              "    </tr>\n",
              "    <tr>\n",
              "      <th>3</th>\n",
              "      <td>4</td>\n",
              "      <td>Crew</td>\n",
              "      <td>Male</td>\n",
              "      <td>Child</td>\n",
              "      <td>No</td>\n",
              "      <td>0</td>\n",
              "    </tr>\n",
              "    <tr>\n",
              "      <th>4</th>\n",
              "      <td>5</td>\n",
              "      <td>1st</td>\n",
              "      <td>Female</td>\n",
              "      <td>Child</td>\n",
              "      <td>No</td>\n",
              "      <td>0</td>\n",
              "    </tr>\n",
              "    <tr>\n",
              "      <th>5</th>\n",
              "      <td>6</td>\n",
              "      <td>2nd</td>\n",
              "      <td>Female</td>\n",
              "      <td>Child</td>\n",
              "      <td>No</td>\n",
              "      <td>0</td>\n",
              "    </tr>\n",
              "    <tr>\n",
              "      <th>6</th>\n",
              "      <td>7</td>\n",
              "      <td>3rd</td>\n",
              "      <td>Female</td>\n",
              "      <td>Child</td>\n",
              "      <td>No</td>\n",
              "      <td>17</td>\n",
              "    </tr>\n",
              "    <tr>\n",
              "      <th>7</th>\n",
              "      <td>8</td>\n",
              "      <td>Crew</td>\n",
              "      <td>Female</td>\n",
              "      <td>Child</td>\n",
              "      <td>No</td>\n",
              "      <td>0</td>\n",
              "    </tr>\n",
              "    <tr>\n",
              "      <th>8</th>\n",
              "      <td>9</td>\n",
              "      <td>1st</td>\n",
              "      <td>Male</td>\n",
              "      <td>Adult</td>\n",
              "      <td>No</td>\n",
              "      <td>118</td>\n",
              "    </tr>\n",
              "    <tr>\n",
              "      <th>9</th>\n",
              "      <td>10</td>\n",
              "      <td>2nd</td>\n",
              "      <td>Male</td>\n",
              "      <td>Adult</td>\n",
              "      <td>No</td>\n",
              "      <td>154</td>\n",
              "    </tr>\n",
              "    <tr>\n",
              "      <th>10</th>\n",
              "      <td>11</td>\n",
              "      <td>3rd</td>\n",
              "      <td>Male</td>\n",
              "      <td>Adult</td>\n",
              "      <td>No</td>\n",
              "      <td>387</td>\n",
              "    </tr>\n",
              "  </tbody>\n",
              "</table>\n",
              "</div>"
            ],
            "text/plain": [
              "    Unnamed: 0 Class     Sex    Age Survived  Freq\n",
              "0            1   1st    Male  Child       No     0\n",
              "1            2   2nd    Male  Child       No     0\n",
              "2            3   3rd    Male  Child       No    35\n",
              "3            4  Crew    Male  Child       No     0\n",
              "4            5   1st  Female  Child       No     0\n",
              "5            6   2nd  Female  Child       No     0\n",
              "6            7   3rd  Female  Child       No    17\n",
              "7            8  Crew  Female  Child       No     0\n",
              "8            9   1st    Male  Adult       No   118\n",
              "9           10   2nd    Male  Adult       No   154\n",
              "10          11   3rd    Male  Adult       No   387"
            ]
          },
          "metadata": {
            "tags": []
          },
          "execution_count": 6
        }
      ]
    },
    {
      "metadata": {
        "id": "vH54Kojz-XrL",
        "colab_type": "code",
        "colab": {}
      },
      "cell_type": "code",
      "source": [
        "import matplotlib.pyplot as plt"
      ],
      "execution_count": 0,
      "outputs": []
    },
    {
      "metadata": {
        "id": "ACltC7P4-hoW",
        "colab_type": "code",
        "outputId": "6efb42f0-5865-4f00-d5c5-f1ee9163aa18",
        "colab": {
          "base_uri": "https://localhost:8080/",
          "height": 376
        }
      },
      "cell_type": "code",
      "source": [
        "X = [[6], [8], [10], [14], [18]]\n",
        "y = [[7], [9], [13], [17.5], [18]]\n",
        "plt.figure()\n",
        "plt.title('Pizza price plotted against diameter')\n",
        "plt.xlabel('Diameter in inches')\n",
        "plt.ylabel('Price in dollars')\n",
        "plt.plot(X, y, 'bo')\n",
        "plt.axis([0, 25, 0, 25])\n",
        "plt.grid(True)\n",
        "plt.show()"
      ],
      "execution_count": 8,
      "outputs": [
        {
          "output_type": "display_data",
          "data": {
            "image/png": "[encoded data removed]",
            "text/plain": [
              "<matplotlib.figure.Figure at 0x7f6fc00cde90>"
            ]
          },
          "metadata": {
            "tags": []
          }
        }
      ]
    },
    {
      "metadata": {
        "id": "irPZEldjKlql",
        "colab_type": "code",
        "colab": {
          "base_uri": "https://localhost:8080/",
          "height": 129
        },
        "outputId": "08a0b12f-eeee-44d4-88c9-3a43d8536b58"
      },
      "cell_type": "code",
      "source": [
        "from sklearn.linear_model import LinearRegression\n",
        "lrnr= LinearRegression()\n",
        "lrnr.fit(X,y)\n",
        "lrnr.print()"
      ],
      "execution_count": 12,
      "outputs": [
        {
          "output_type": "error",
          "ename": "SyntaxError",
          "evalue": "ignored",
          "traceback": [
            "\u001b[0;36m  File \u001b[0;32m\"<ipython-input-12-042a5d0ef9cf>\"\u001b[0;36m, line \u001b[0;32m4\u001b[0m\n\u001b[0;31m    lrnr.print()\u001b[0m\n\u001b[0m             ^\u001b[0m\n\u001b[0;31mSyntaxError\u001b[0m\u001b[0;31m:\u001b[0m invalid syntax\n"
          ]
        }
      ]
    },
    {
      "metadata": {
        "id": "mGwiuRP3osUp",
        "colab_type": "code",
        "colab": {}
      },
      "cell_type": "code",
      "source": [
        ""
      ],
      "execution_count": 0,
      "outputs": []
    }
  ]
}