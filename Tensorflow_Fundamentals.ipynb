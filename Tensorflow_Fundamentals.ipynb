{
  "nbformat": 4,
  "nbformat_minor": 0,
  "metadata": {
    "colab": {
      "name": "Tensorflow Fundamentals.ipynb",
      "version": "0.3.2",
      "provenance": [],
      "collapsed_sections": [],
      "include_colab_link": true
    },
    "kernelspec": {
      "name": "python3",
      "display_name": "Python 3"
    },
    "accelerator": "TPU"
  },
  "cells": [
    {
      "cell_type": "markdown",
      "metadata": {
        "id": "view-in-github",
        "colab_type": "text"
      },
      "source": [
        "<a href=\"https://colab.research.google.com/github/AtharKharal/Tensorflow_Python_GPUsTPUs/blob/master/Tensorflow_Fundamentals.ipynb\" target=\"_parent\"><img src=\"https://colab.research.google.com/assets/colab-badge.svg\" alt=\"Open In Colab\"/></a>"
      ]
    },
    {
      "metadata": {
        "id": "WArtF1XeE5lm",
        "colab_type": "text"
      },
      "cell_type": "markdown",
      "source": [
        "#Loading Tensorflow"
      ]
    },
    {
      "metadata": {
        "id": "Ii14zuo9ELOe",
        "colab_type": "code",
        "colab": {}
      },
      "cell_type": "code",
      "source": [
        "import tensorflow as tf"
      ],
      "execution_count": 0,
      "outputs": []
    },
    {
      "metadata": {
        "id": "uxTC8X0nFB-m",
        "colab_type": "text"
      },
      "cell_type": "markdown",
      "source": [
        "#Basic Tensor Constructions"
      ]
    },
    {
      "metadata": {
        "id": "bvzFE0SWE299",
        "colab_type": "code",
        "colab": {}
      },
      "cell_type": "code",
      "source": [
        "t1= tf.constant([1,2,3.3])\n",
        "t2= tf.constant([10,20,30])\n"
      ],
      "execution_count": 0,
      "outputs": []
    },
    {
      "metadata": {
        "id": "s-P8OeY2Ezco",
        "colab_type": "code",
        "colab": {}
      },
      "cell_type": "code",
      "source": [
        "t3= tf.range(1,10,.3)\n"
      ],
      "execution_count": 0,
      "outputs": []
    },
    {
      "metadata": {
        "id": "YVWUcn8SFe8L",
        "colab_type": "code",
        "outputId": "432ea973-7dac-4b44-c0d6-8d7c0ca4616c",
        "colab": {
          "base_uri": "https://localhost:8080/",
          "height": 34
        }
      },
      "cell_type": "code",
      "source": [
        "t1.get_shape()"
      ],
      "execution_count": 0,
      "outputs": [
        {
          "output_type": "execute_result",
          "data": {
            "text/plain": [
              "TensorShape([Dimension(3)])"
            ]
          },
          "metadata": {
            "tags": []
          },
          "execution_count": 14
        }
      ]
    },
    {
      "metadata": {
        "id": "FYhmTUg1ced9",
        "colab_type": "text"
      },
      "cell_type": "markdown",
      "source": [
        "#Creating Operations"
      ]
    },
    {
      "metadata": {
        "id": "f8tC5vzVIV5P",
        "colab_type": "code",
        "colab": {}
      },
      "cell_type": "code",
      "source": [
        "a = tf.constant([3., 3., 3.])\n",
        "b = tf.constant([2., 2., 2.])\n",
        "sm = tf.add(a, b)"
      ],
      "execution_count": 0,
      "outputs": []
    },
    {
      "metadata": {
        "id": "HB6X7gGtJX1S",
        "colab_type": "code",
        "outputId": "377027c7-27ee-4971-985a-8c5cebb151be",
        "colab": {
          "base_uri": "https://localhost:8080/",
          "height": 34
        }
      },
      "cell_type": "code",
      "source": [
        "dv= tf.div(a,b)\n",
        "dv"
      ],
      "execution_count": 0,
      "outputs": [
        {
          "output_type": "execute_result",
          "data": {
            "text/plain": [
              "<tf.Tensor 'div:0' shape=(3,) dtype=float32>"
            ]
          },
          "metadata": {
            "tags": []
          },
          "execution_count": 27
        }
      ]
    },
    {
      "metadata": {
        "id": "Sci_lZgucyl0",
        "colab_type": "code",
        "outputId": "70c6c221-116e-46af-aa51-78794fafb9f9",
        "colab": {
          "base_uri": "https://localhost:8080/",
          "height": 34
        }
      },
      "cell_type": "code",
      "source": [
        "tf.subtract(a,b)"
      ],
      "execution_count": 0,
      "outputs": [
        {
          "output_type": "execute_result",
          "data": {
            "text/plain": [
              "<tf.Tensor 'Sub:0' shape=(3,) dtype=float32>"
            ]
          },
          "metadata": {
            "tags": []
          },
          "execution_count": 30
        }
      ]
    },
    {
      "metadata": {
        "id": "kHjdwB0zeZbE",
        "colab_type": "code",
        "outputId": "79e9b2dd-0df2-4741-f978-02384b0a54bc",
        "colab": {
          "base_uri": "https://localhost:8080/",
          "height": 34
        }
      },
      "cell_type": "code",
      "source": [
        "with tf.Session() as sess:\n",
        "    print(\"Sum : \", sess.run(sm))"
      ],
      "execution_count": 0,
      "outputs": [
        {
          "output_type": "stream",
          "text": [
            "Sum :  [5. 5. 5.]\n"
          ],
          "name": "stdout"
        }
      ]
    },
    {
      "metadata": {
        "id": "z5pyE2RVhCoq",
        "colab_type": "text"
      },
      "cell_type": "markdown",
      "source": [
        "##Graphs"
      ]
    },
    {
      "metadata": {
        "id": "wbAyQGLdenUj",
        "colab_type": "code",
        "outputId": "d2df28a5-261a-4625-d1f6-37c10b6f1827",
        "colab": {
          "base_uri": "https://localhost:8080/",
          "height": 34
        }
      },
      "cell_type": "code",
      "source": [
        "graph= tf.get_default_graph()\n",
        "graph"
      ],
      "execution_count": 0,
      "outputs": [
        {
          "output_type": "execute_result",
          "data": {
            "text/plain": [
              "<tensorflow.python.framework.ops.Graph at 0x7fb5b4752a90>"
            ]
          },
          "metadata": {
            "tags": []
          },
          "execution_count": 45
        }
      ]
    },
    {
      "metadata": {
        "id": "T1JIIA6-h7jp",
        "colab_type": "code",
        "outputId": "5af27098-a223-4617-e03a-4c89968bda79",
        "colab": {
          "base_uri": "https://localhost:8080/",
          "height": 34
        }
      },
      "cell_type": "code",
      "source": [
        "newgraph= tf.Graph()\n",
        "newgraph"
      ],
      "execution_count": 0,
      "outputs": [
        {
          "output_type": "execute_result",
          "data": {
            "text/plain": [
              "<tensorflow.python.framework.ops.Graph at 0x7fb5b3c667f0>"
            ]
          },
          "metadata": {
            "tags": []
          },
          "execution_count": 46
        }
      ]
    },
    {
      "metadata": {
        "id": "MvJlDff_j6od",
        "colab_type": "code",
        "outputId": "69d7a34c-d8cc-4c7d-c168-862e17926ad1",
        "colab": {
          "base_uri": "https://localhost:8080/",
          "height": 34
        }
      },
      "cell_type": "code",
      "source": [
        "newgraph.get_operations()"
      ],
      "execution_count": 0,
      "outputs": [
        {
          "output_type": "execute_result",
          "data": {
            "text/plain": [
              "[]"
            ]
          },
          "metadata": {
            "tags": []
          },
          "execution_count": 48
        }
      ]
    },
    {
      "metadata": {
        "id": "iHKaTY-OkAOw",
        "colab_type": "code",
        "colab": {}
      },
      "cell_type": "code",
      "source": [
        "a=tf.constant(2.5,name='first_val')\n",
        "b=tf.constant(4.5,name='second_val')\n",
        "sm=a+b\n",
        "print(tf.get_default_graph().get_operations())"
      ],
      "execution_count": 0,
      "outputs": []
    },
    {
      "metadata": {
        "id": "xQshiOV8fr3S",
        "colab_type": "text"
      },
      "cell_type": "markdown",
      "source": [
        "#Linear Regression: the TF way"
      ]
    },
    {
      "metadata": {
        "id": "Lf3B4lBpf5UA",
        "colab_type": "text"
      },
      "cell_type": "markdown",
      "source": [
        "We start by loading the necessary libraries, creating a graph, and loading the data:"
      ]
    },
    {
      "metadata": {
        "id": "qKnZ1huHfzYo",
        "colab_type": "code",
        "colab": {}
      },
      "cell_type": "code",
      "source": [
        "import matplotlib.pyplot as plt\n",
        "import numpy as np\n",
        "import tensorflow as tf\n",
        "from sklearn import datasets\n",
        "from tensorflow.python.framework import ops\n",
        "ops.reset_default_graph()\n",
        "sess = tf.Session()\n",
        "iris = datasets.load_iris()\n",
        "x_vals = np.array([x[3] for x in iris.data])\n",
        "y_vals = np.array([y[0] for y in iris.data])"
      ],
      "execution_count": 0,
      "outputs": []
    },
    {
      "metadata": {
        "id": "jhX2PGCegVnQ",
        "colab_type": "text"
      },
      "cell_type": "markdown",
      "source": [
        "We then declare our learning rate, batch size, placeholders, and model variables:"
      ]
    },
    {
      "metadata": {
        "id": "gDk_fBbqgYjQ",
        "colab_type": "code",
        "colab": {}
      },
      "cell_type": "code",
      "source": [
        "learning_rate = 0.05\n",
        "batch_size = 25\n",
        "x_data = tf.placeholder(shape=[None, 1], dtype=tf.float32)\n",
        "y_target = tf.placeholder(shape=[None, 1], dtype=tf.float32)\n",
        "A = tf.Variable(tf.random_normal(shape=[1,1]))\n",
        "b = tf.Variable(tf.random_normal(shape=[1,1]))\n"
      ],
      "execution_count": 0,
      "outputs": []
    },
    {
      "metadata": {
        "id": "zpJS3ggSgdpI",
        "colab_type": "text"
      },
      "cell_type": "markdown",
      "source": [
        "Next, we write the formula for the linear model, y=Ax+b:"
      ]
    },
    {
      "metadata": {
        "id": "gx-j03hfgeyA",
        "colab_type": "code",
        "colab": {}
      },
      "cell_type": "code",
      "source": [
        "model_output = tf.add(tf.matmul(x_data, A), b)"
      ],
      "execution_count": 0,
      "outputs": []
    },
    {
      "metadata": {
        "id": "2XyEmDpCghp4",
        "colab_type": "text"
      },
      "cell_type": "markdown",
      "source": [
        "Then we declare our L2 loss function (which includes the mean over the batch), initialize the variables, and declare our optimizer. Note that we chose 0.05 as our learning rate:"
      ]
    },
    {
      "metadata": {
        "id": "irbkfJJ7gmU9",
        "colab_type": "code",
        "colab": {}
      },
      "cell_type": "code",
      "source": [
        "loss = tf.reduce_mean(tf.square(y_target - model_output))\n",
        "init = tf.global_variables_initializer()\n",
        "sess.run(init)\n",
        "my_opt = tf.train.GradientDescentOptimizer(learning_rate)\n",
        "train_step = my_opt.minimize(loss)"
      ],
      "execution_count": 0,
      "outputs": []
    },
    {
      "metadata": {
        "id": "mHZiZMzWgopI",
        "colab_type": "text"
      },
      "cell_type": "markdown",
      "source": [
        "We can now loop through and train the model on randomly selected batches. We will\n",
        "run it for 100 loops and print out the variable and loss values every 25 iterations.\n",
        "Note that here we are also saving the loss of every iteration so that we can view it\n",
        "afterwards:"
      ]
    },
    {
      "metadata": {
        "id": "EveBRb7xgs65",
        "colab_type": "code",
        "colab": {
          "base_uri": "https://localhost:8080/",
          "height": 151
        },
        "outputId": "f137aaa2-33ac-4e66-807e-f2f33d622d69"
      },
      "cell_type": "code",
      "source": [
        "loss_vec = []\n",
        "for i in range(100):\n",
        "    rand_index = np.random.choice(len(x_vals), size=batch_size)\n",
        "    rand_x = np.transpose([x_vals[rand_index]])\n",
        "    rand_y = np.transpose([y_vals[rand_index]])\n",
        "    sess.run(train_step, feed_dict={x_data: rand_x, y_target:\n",
        "    rand_y})\n",
        "    temp_loss = sess.run(loss, feed_dict={x_data: rand_x, y_target: rand_y})\n",
        "    loss_vec.append(temp_loss)\n",
        "    if (i+1)%25==0:\n",
        "        print('Step #' + str(i+1) + ' A = ' + str(sess.run(A)) + 'b = ' + str(sess.run(b)))\n",
        "        print('Loss = ''' + str(temp_loss))"
      ],
      "execution_count": 10,
      "outputs": [
        {
          "output_type": "stream",
          "text": [
            "Step #25 A = [[0.9475999]]b = [[4.718447]]\n",
            "Loss = 0.24975508\n",
            "Step #50 A = [[0.90370077]]b = [[4.73804]]\n",
            "Loss = 0.2348233\n",
            "Step #75 A = [[0.8829504]]b = [[4.741434]]\n",
            "Loss = 0.16852891\n",
            "Step #100 A = [[0.9232345]]b = [[4.7770777]]\n",
            "Loss = 0.2612387\n"
          ],
          "name": "stdout"
        }
      ]
    },
    {
      "metadata": {
        "id": "NOrqAPfxg0Th",
        "colab_type": "text"
      },
      "cell_type": "markdown",
      "source": [
        "Next we will extract the coefficients we found and create a best-fit line to put in the\n",
        "graph:"
      ]
    },
    {
      "metadata": {
        "id": "7z_XsyqHg1A_",
        "colab_type": "code",
        "colab": {}
      },
      "cell_type": "code",
      "source": [
        "[slope] = sess.run(A)\n",
        "[y_intercept] = sess.run(b)\n",
        "best_fit = []\n",
        "for i in x_vals: \n",
        "    best_fit.append(slope*i+y_intercept)"
      ],
      "execution_count": 0,
      "outputs": []
    },
    {
      "metadata": {
        "id": "mFM3ktzAg5CI",
        "colab_type": "text"
      },
      "cell_type": "markdown",
      "source": [
        "Here we will create two plots. The first will be the data with the found line overlaid.\n",
        "The second is the L2 loss function over the 100 iterations:"
      ]
    },
    {
      "metadata": {
        "id": "AcBdWD4Ug72P",
        "colab_type": "code",
        "colab": {
          "base_uri": "https://localhost:8080/",
          "height": 735
        },
        "outputId": "7696138d-b44d-4e2c-c621-9b97946d6281"
      },
      "cell_type": "code",
      "source": [
        "plt.plot(x_vals, y_vals, 'o', label='Data Points')\n",
        "plt.plot(x_vals, best_fit, 'r-', label='Best fit line',linewidth=3)\n",
        "plt.legend(loc='upper left')\n",
        "plt.title('Sepal Length vs Pedal Width')\n",
        "plt.xlabel('Pedal Width')\n",
        "plt.ylabel('Sepal Length')\n",
        "plt.show()\n",
        "plt.plot(loss_vec, 'k-')\n",
        "plt.title('L2 Loss per Generation')\n",
        "plt.xlabel('Generation')\n",
        "plt.ylabel('L2 Loss')\n",
        "plt.show()"
      ],
      "execution_count": 15,
      "outputs": [
        {
          "output_type": "display_data",
          "data": {
            "image/png": "[encoded data removed]",
            "text/plain": [
              "<matplotlib.figure.Figure at 0x7fe7ffa3b390>"
            ]
          },
          "metadata": {
            "tags": []
          }
        },
        {
          "output_type": "display_data",
          "data": {
            "image/png": "[encoded data removed]",
            "text/plain": [
              "<matplotlib.figure.Figure at 0x7fe7ff9f7dd8>"
            ]
          },
          "metadata": {
            "tags": []
          }
        }
      ]
    }
  ]
}