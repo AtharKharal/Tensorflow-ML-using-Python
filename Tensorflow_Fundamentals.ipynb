{
  "nbformat": 4,
  "nbformat_minor": 0,
  "metadata": {
    "colab": {
      "name": "Tensorflow Fundamentals.ipynb",
      "version": "0.3.2",
      "provenance": [],
      "include_colab_link": true
    },
    "kernelspec": {
      "name": "python3",
      "display_name": "Python 3"
    },
    "accelerator": "TPU"
  },
  "cells": [
    {
      "cell_type": "markdown",
      "metadata": {
        "id": "view-in-github",
        "colab_type": "text"
      },
      "source": [
        "<a href=\"https://colab.research.google.com/github/AtharKharal/Tensorflow-ML-using-Python/blob/master/Tensorflow_Fundamentals.ipynb\" target=\"_parent\"><img src=\"https://colab.research.google.com/assets/colab-badge.svg\" alt=\"Open In Colab\"/></a>"
      ]
    },
    {
      "metadata": {
        "id": "WArtF1XeE5lm",
        "colab_type": "text"
      },
      "cell_type": "markdown",
      "source": [
        "#Loading Tensorflow"
      ]
    },
    {
      "metadata": {
        "id": "Ii14zuo9ELOe",
        "colab_type": "code",
        "colab": {}
      },
      "cell_type": "code",
      "source": [
        "import tensorflow as tf"
      ],
      "execution_count": 0,
      "outputs": []
    },
    {
      "metadata": {
        "id": "uxTC8X0nFB-m",
        "colab_type": "text"
      },
      "cell_type": "markdown",
      "source": [
        "#Basic Tensor Constructions"
      ]
    },
    {
      "metadata": {
        "id": "bvzFE0SWE299",
        "colab_type": "code",
        "colab": {}
      },
      "cell_type": "code",
      "source": [
        "t1= tf.constant([1,2,3.3])\n",
        "t2= tf.constant([10,20,30])\n"
      ],
      "execution_count": 0,
      "outputs": []
    },
    {
      "metadata": {
        "id": "s-P8OeY2Ezco",
        "colab_type": "code",
        "colab": {}
      },
      "cell_type": "code",
      "source": [
        "t3= tf.range(1,10,.3)\n"
      ],
      "execution_count": 0,
      "outputs": []
    },
    {
      "metadata": {
        "id": "YVWUcn8SFe8L",
        "colab_type": "code",
        "colab": {
          "base_uri": "https://localhost:8080/",
          "height": 34
        },
        "outputId": "494a643c-e464-4b43-c4b9-5d5a24fe13a6"
      },
      "cell_type": "code",
      "source": [
        "t3"
      ],
      "execution_count": 7,
      "outputs": [
        {
          "output_type": "execute_result",
          "data": {
            "text/plain": [
              "<tf.Tensor 'range_2:0' shape=(30,) dtype=float32>"
            ]
          },
          "metadata": {
            "tags": []
          },
          "execution_count": 7
        }
      ]
    },
    {
      "metadata": {
        "id": "f8tC5vzVIV5P",
        "colab_type": "code",
        "colab": {}
      },
      "cell_type": "code",
      "source": [
        ""
      ],
      "execution_count": 0,
      "outputs": []
    }
  ]
}