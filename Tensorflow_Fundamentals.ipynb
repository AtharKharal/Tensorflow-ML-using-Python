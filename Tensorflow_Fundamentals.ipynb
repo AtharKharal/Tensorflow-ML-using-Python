{
  "nbformat": 4,
  "nbformat_minor": 0,
  "metadata": {
    "colab": {
      "name": "Tensorflow Fundamentals.ipynb",
      "version": "0.3.2",
      "provenance": [],
      "collapsed_sections": [],
      "include_colab_link": true
    },
    "kernelspec": {
      "name": "python3",
      "display_name": "Python 3"
    },
    "accelerator": "TPU"
  },
  "cells": [
    {
      "cell_type": "markdown",
      "metadata": {
        "id": "view-in-github",
        "colab_type": "text"
      },
      "source": [
        "<a href=\"https://colab.research.google.com/github/AtharKharal/Tensorflow_Python_GPUsTPUs/blob/master/Tensorflow_Fundamentals.ipynb\" target=\"_parent\"><img src=\"https://colab.research.google.com/assets/colab-badge.svg\" alt=\"Open In Colab\"/></a>"
      ]
    },
    {
      "metadata": {
        "id": "WArtF1XeE5lm",
        "colab_type": "text"
      },
      "cell_type": "markdown",
      "source": [
        "#Loading Tensorflow"
      ]
    },
    {
      "metadata": {
        "id": "Ii14zuo9ELOe",
        "colab_type": "code",
        "colab": {}
      },
      "cell_type": "code",
      "source": [
        "import tensorflow as tf"
      ],
      "execution_count": 0,
      "outputs": []
    },
    {
      "metadata": {
        "id": "uxTC8X0nFB-m",
        "colab_type": "text"
      },
      "cell_type": "markdown",
      "source": [
        "#Basic Tensor Constructions"
      ]
    },
    {
      "metadata": {
        "id": "bvzFE0SWE299",
        "colab_type": "code",
        "colab": {}
      },
      "cell_type": "code",
      "source": [
        "t1= tf.constant([1,2,3.3])\n",
        "t2= tf.constant([10,20,30])\n"
      ],
      "execution_count": 0,
      "outputs": []
    },
    {
      "metadata": {
        "id": "s-P8OeY2Ezco",
        "colab_type": "code",
        "colab": {}
      },
      "cell_type": "code",
      "source": [
        "t3= tf.range(1,10,.3)\n"
      ],
      "execution_count": 0,
      "outputs": []
    },
    {
      "metadata": {
        "id": "YVWUcn8SFe8L",
        "colab_type": "code",
        "outputId": "432ea973-7dac-4b44-c0d6-8d7c0ca4616c",
        "colab": {
          "base_uri": "https://localhost:8080/",
          "height": 34
        }
      },
      "cell_type": "code",
      "source": [
        "t1.get_shape()"
      ],
      "execution_count": 0,
      "outputs": [
        {
          "output_type": "execute_result",
          "data": {
            "text/plain": [
              "TensorShape([Dimension(3)])"
            ]
          },
          "metadata": {
            "tags": []
          },
          "execution_count": 14
        }
      ]
    },
    {
      "metadata": {
        "id": "FYhmTUg1ced9",
        "colab_type": "text"
      },
      "cell_type": "markdown",
      "source": [
        "#Creating Operations"
      ]
    },
    {
      "metadata": {
        "id": "f8tC5vzVIV5P",
        "colab_type": "code",
        "colab": {}
      },
      "cell_type": "code",
      "source": [
        "a = tf.constant([3., 3., 3.])\n",
        "b = tf.constant([2., 2., 2.])\n",
        "sm = tf.add(a, b)"
      ],
      "execution_count": 0,
      "outputs": []
    },
    {
      "metadata": {
        "id": "HB6X7gGtJX1S",
        "colab_type": "code",
        "outputId": "377027c7-27ee-4971-985a-8c5cebb151be",
        "colab": {
          "base_uri": "https://localhost:8080/",
          "height": 34
        }
      },
      "cell_type": "code",
      "source": [
        "dv= tf.div(a,b)\n",
        "dv"
      ],
      "execution_count": 0,
      "outputs": [
        {
          "output_type": "execute_result",
          "data": {
            "text/plain": [
              "<tf.Tensor 'div:0' shape=(3,) dtype=float32>"
            ]
          },
          "metadata": {
            "tags": []
          },
          "execution_count": 27
        }
      ]
    },
    {
      "metadata": {
        "id": "Sci_lZgucyl0",
        "colab_type": "code",
        "outputId": "70c6c221-116e-46af-aa51-78794fafb9f9",
        "colab": {
          "base_uri": "https://localhost:8080/",
          "height": 34
        }
      },
      "cell_type": "code",
      "source": [
        "tf.subtract(a,b)"
      ],
      "execution_count": 0,
      "outputs": [
        {
          "output_type": "execute_result",
          "data": {
            "text/plain": [
              "<tf.Tensor 'Sub:0' shape=(3,) dtype=float32>"
            ]
          },
          "metadata": {
            "tags": []
          },
          "execution_count": 30
        }
      ]
    },
    {
      "metadata": {
        "id": "kHjdwB0zeZbE",
        "colab_type": "code",
        "outputId": "79e9b2dd-0df2-4741-f978-02384b0a54bc",
        "colab": {
          "base_uri": "https://localhost:8080/",
          "height": 34
        }
      },
      "cell_type": "code",
      "source": [
        "with tf.Session() as sess:\n",
        "    print(\"Sum : \", sess.run(sm))"
      ],
      "execution_count": 0,
      "outputs": [
        {
          "output_type": "stream",
          "text": [
            "Sum :  [5. 5. 5.]\n"
          ],
          "name": "stdout"
        }
      ]
    },
    {
      "metadata": {
        "id": "z5pyE2RVhCoq",
        "colab_type": "text"
      },
      "cell_type": "markdown",
      "source": [
        "##Graphs"
      ]
    },
    {
      "metadata": {
        "id": "wbAyQGLdenUj",
        "colab_type": "code",
        "outputId": "d2df28a5-261a-4625-d1f6-37c10b6f1827",
        "colab": {
          "base_uri": "https://localhost:8080/",
          "height": 34
        }
      },
      "cell_type": "code",
      "source": [
        "graph= tf.get_default_graph()\n",
        "graph"
      ],
      "execution_count": 0,
      "outputs": [
        {
          "output_type": "execute_result",
          "data": {
            "text/plain": [
              "<tensorflow.python.framework.ops.Graph at 0x7fb5b4752a90>"
            ]
          },
          "metadata": {
            "tags": []
          },
          "execution_count": 45
        }
      ]
    },
    {
      "metadata": {
        "id": "T1JIIA6-h7jp",
        "colab_type": "code",
        "outputId": "5af27098-a223-4617-e03a-4c89968bda79",
        "colab": {
          "base_uri": "https://localhost:8080/",
          "height": 34
        }
      },
      "cell_type": "code",
      "source": [
        "newgraph= tf.Graph()\n",
        "newgraph"
      ],
      "execution_count": 0,
      "outputs": [
        {
          "output_type": "execute_result",
          "data": {
            "text/plain": [
              "<tensorflow.python.framework.ops.Graph at 0x7fb5b3c667f0>"
            ]
          },
          "metadata": {
            "tags": []
          },
          "execution_count": 46
        }
      ]
    },
    {
      "metadata": {
        "id": "MvJlDff_j6od",
        "colab_type": "code",
        "outputId": "69d7a34c-d8cc-4c7d-c168-862e17926ad1",
        "colab": {
          "base_uri": "https://localhost:8080/",
          "height": 34
        }
      },
      "cell_type": "code",
      "source": [
        "newgraph.get_operations()"
      ],
      "execution_count": 0,
      "outputs": [
        {
          "output_type": "execute_result",
          "data": {
            "text/plain": [
              "[]"
            ]
          },
          "metadata": {
            "tags": []
          },
          "execution_count": 48
        }
      ]
    },
    {
      "metadata": {
        "id": "iHKaTY-OkAOw",
        "colab_type": "code",
        "colab": {}
      },
      "cell_type": "code",
      "source": [
        "a=tf.constant(2.5,name='first_val')\n",
        "b=tf.constant(4.5,name='second_val')\n",
        "sm=a+b\n",
        "print(tf.get_default_graph().get_operations())"
      ],
      "execution_count": 0,
      "outputs": []
    }
  ]
}